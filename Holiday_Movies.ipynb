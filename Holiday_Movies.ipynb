{
  "nbformat": 4,
  "nbformat_minor": 0,
  "metadata": {
    "colab": {
      "provenance": []
    },
    "kernelspec": {
      "name": "python3",
      "display_name": "Python 3"
    },
    "language_info": {
      "name": "python"
    }
  },
  "cells": [
    {
      "cell_type": "markdown",
      "source": [
        "---\n",
        "title: Christmas Movies\n",
        "author: Luna Oley\n",
        "date: 2025-04-9\n",
        "categories: [Programing, Spotify, Python] # tags for a blog post (e.g., python)\n",
        "image: \"Xmas_pic.png\"\n",
        "\n",
        "toc: true\n",
        "---"
      ],
      "metadata": {
        "id": "uOJ9dUtOYVYT"
      }
    },
    {
      "cell_type": "markdown",
      "source": [
        "First we load the Holiday Movies and Holiday Movies Genres dataset and observe it's structure. The Holiday Movies data set contains variables named tconst, title_type, primary_title, simple_title, and year. The Holiday Movie Genres dataset has 3 variables, runtime_minutes, average_rating, and num_votes."
      ],
      "metadata": {
        "id": "bPgz-L_zu6M0"
      }
    },
    {
      "cell_type": "code",
      "source": [
        "import pandas as pd\n",
        "\n",
        "holiday_movies = pd.read_csv(\"https://bcdanl.github.io/data/holiday_movies.csv\")\n",
        "holiday_movie_genres = pd.read_csv(\"https://bcdanl.github.io/data/holiday_movie_genres.csv\")\n",
        "print(holiday_movies.head())"
      ],
      "metadata": {
        "colab": {
          "base_uri": "https://localhost:8080/"
        },
        "id": "DGwHsj0hYUFa",
        "outputId": "ff591908-8242-4a77-f188-dc4db0c25da0"
      },
      "execution_count": 10,
      "outputs": [
        {
          "output_type": "stream",
          "name": "stdout",
          "text": [
            "      tconst title_type          primary_title          simple_title  year  \\\n",
            "0  tt0020356      movie       Sailor's Holiday       sailors holiday  1929   \n",
            "1  tt0020823      movie    The Devil's Holiday    the devils holiday  1930   \n",
            "2  tt0020985      movie                Holiday               holiday  1930   \n",
            "3  tt0021268      movie  Holiday of St. Jorgen  holiday of st jorgen  1930   \n",
            "4  tt0021377      movie    Sin Takes a Holiday   sin takes a holiday  1930   \n",
            "\n",
            "   runtime_minutes  average_rating  num_votes  \n",
            "0             58.0             5.4         55  \n",
            "1             80.0             6.0        242  \n",
            "2             91.0             6.3        638  \n",
            "3             83.0             7.4        256  \n",
            "4             81.0             6.1        740  \n"
          ]
        }
      ]
    },
    {
      "cell_type": "markdown",
      "source": [
        "#"
      ],
      "metadata": {
        "id": "zOn1CPGuYv3T"
      }
    },
    {
      "cell_type": "markdown",
      "source": [
        "We will start looking at the data by counting the number of movies by year from the Holiday Movies data set."
      ],
      "metadata": {
        "id": "bJuDkDfOw8AE"
      }
    },
    {
      "cell_type": "code",
      "source": [
        "# Count the number of movies by year\n",
        "movies_by_year = holiday_movies['year'].value_counts().sort_index()\n",
        "\n",
        "print(movies_by_year)\n"
      ],
      "metadata": {
        "colab": {
          "base_uri": "https://localhost:8080/"
        },
        "id": "oQxS113IYvH3",
        "outputId": "4a916e32-a09c-411c-f8e0-cb2c31d304f5"
      },
      "execution_count": 4,
      "outputs": [
        {
          "output_type": "stream",
          "name": "stdout",
          "text": [
            "year\n",
            "1929      1\n",
            "1930      5\n",
            "1931      1\n",
            "1934      3\n",
            "1936      2\n",
            "       ... \n",
            "2019    143\n",
            "2020    172\n",
            "2021    183\n",
            "2022    173\n",
            "2023    107\n",
            "Name: count, Length: 91, dtype: int64\n"
          ]
        }
      ]
    },
    {
      "cell_type": "markdown",
      "source": [
        "Then we look at the Holiday Movies dataset number of imb rating in descending order. We do this by sorting the values by the variables \"num_votes\"."
      ],
      "metadata": {
        "id": "94l5vSAVxeKE"
      }
    },
    {
      "cell_type": "code",
      "source": [
        "# Sort movies by IMDb rating in descending order\n",
        "top_rated_movies = holiday_movies.sort_values(by='num_votes', ascending=False).head(10)\n",
        "\n",
        "print(top_rated_movies[['primary_title', 'num_votes']])\n"
      ],
      "metadata": {
        "colab": {
          "base_uri": "https://localhost:8080/"
        },
        "id": "_HBzx-bSGy5A",
        "outputId": "6572324f-5d47-4d6e-d93b-b5a6bdbdaa9d"
      },
      "execution_count": 7,
      "outputs": [
        {
          "output_type": "stream",
          "name": "stdout",
          "text": [
            "                              primary_title  num_votes\n",
            "151          The Nightmare Before Christmas     367288\n",
            "501                             The Holiday     308807\n",
            "211          How the Grinch Stole Christmas     276568\n",
            "135   National Lampoon's Christmas Vacation     209533\n",
            "107                       A Christmas Story     163273\n",
            "48                            Roman Holiday     145289\n",
            "499                      Mr. Bean's Holiday     132186\n",
            "680                       A Christmas Carol     125562\n",
            "2151                         Last Christmas      86058\n",
            "1288                 Office Christmas Party      85255\n"
          ]
        }
      ]
    },
    {
      "cell_type": "markdown",
      "source": [
        "Next we will look to filter movies released in or after 200."
      ],
      "metadata": {
        "id": "1yE900PGyDNC"
      }
    },
    {
      "cell_type": "code",
      "source": [
        "# Filter movies released in or after 2000\n",
        "modern_holiday_movies = holiday_movies[holiday_movies['year'] >= 2000]\n",
        "\n",
        "print(modern_holiday_movies.head())\n"
      ],
      "metadata": {
        "colab": {
          "base_uri": "https://localhost:8080/"
        },
        "id": "ePk016q_G8cN",
        "outputId": "c3a95efb-cb1d-4535-ddef-280827692e92"
      },
      "execution_count": 8,
      "outputs": [
        {
          "output_type": "stream",
          "name": "stdout",
          "text": [
            "        tconst title_type                   primary_title  \\\n",
            "211  tt0170016      movie  How the Grinch Stole Christmas   \n",
            "250  tt0217978      movie                         'R Xmas   \n",
            "256  tt0221074      movie         Christmas in the Clouds   \n",
            "269  tt0233828      movie                The Long Holiday   \n",
            "273  tt0238121      movie  A Christmas Tree and a Wedding   \n",
            "\n",
            "                       simple_title  year  runtime_minutes  average_rating  \\\n",
            "211  how the grinch stole christmas  2000            104.0             6.3   \n",
            "250                          r xmas  2001             85.0             5.7   \n",
            "256         christmas in the clouds  2001             96.0             6.4   \n",
            "269                the long holiday  2000            145.0             7.9   \n",
            "273  a christmas tree and a wedding  2000             90.0             8.3   \n",
            "\n",
            "     num_votes  \n",
            "211     276568  \n",
            "250       1588  \n",
            "256        863  \n",
            "269        116  \n",
            "273         57  \n"
          ]
        }
      ]
    },
    {
      "cell_type": "markdown",
      "source": [
        "Now using the Holiday Movie and Holiday Movie Genres data sets we will merge them to first combine them to create a dataset that includes all the variables. Then with this dataset we will find the highest rated movue for each genre"
      ],
      "metadata": {
        "id": "ZqJdPWN-yQfC"
      }
    },
    {
      "cell_type": "code",
      "source": [
        "# Find the highest-rated movie for each genre\n",
        "# Perform an inner join to combine movie and genre information\n",
        "movies_with_genres = pd.merge(holiday_movies, holiday_movie_genres, how='inner', on='tconst')\n",
        "\n",
        "print(movies_with_genres.head())\n",
        "\n",
        "highest_rated_by_genre = movies_with_genres.loc[movies_with_genres.groupby('genres')['num_votes'].idxmax()]\n",
        "\n",
        "print(highest_rated_by_genre[['genres', 'primary_title', 'num_votes']])\n"
      ],
      "metadata": {
        "colab": {
          "base_uri": "https://localhost:8080/"
        },
        "id": "yNS3FXCPHBAG",
        "outputId": "92e7b6a4-5478-4aad-f0bb-1172c6e3dc81"
      },
      "execution_count": 16,
      "outputs": [
        {
          "output_type": "stream",
          "name": "stdout",
          "text": [
            "      tconst title_type        primary_title        simple_title  year  \\\n",
            "0  tt0020356      movie     Sailor's Holiday     sailors holiday  1929   \n",
            "1  tt0020823      movie  The Devil's Holiday  the devils holiday  1930   \n",
            "2  tt0020823      movie  The Devil's Holiday  the devils holiday  1930   \n",
            "3  tt0020985      movie              Holiday             holiday  1930   \n",
            "4  tt0020985      movie              Holiday             holiday  1930   \n",
            "\n",
            "   runtime_minutes  average_rating  num_votes   genres  \n",
            "0             58.0             5.4         55   Comedy  \n",
            "1             80.0             6.0        242    Drama  \n",
            "2             80.0             6.0        242  Romance  \n",
            "3             91.0             6.3        638   Comedy  \n",
            "4             91.0             6.3        638    Drama  \n",
            "           genres                                      primary_title  \\\n",
            "3217       Action                                            Holiday   \n",
            "1391    Adventure                                  A Christmas Carol   \n",
            "316     Animation                     The Nightmare Before Christmas   \n",
            "3883    Biography                     The Man Who Invented Christmas   \n",
            "1023       Comedy                                        The Holiday   \n",
            "3218        Crime                                            Holiday   \n",
            "1798  Documentary            Louis Theroux's African Hunting Holiday   \n",
            "4290        Drama                                     Last Christmas   \n",
            "317        Family                     The Nightmare Before Christmas   \n",
            "318       Fantasy                     The Nightmare Before Christmas   \n",
            "60      Film-Noir                                  Christmas Holiday   \n",
            "263       History                       Blackadder's Christmas Carol   \n",
            "171        Horror                                    Black Christmas   \n",
            "54          Music                                        Holiday Inn   \n",
            "112       Musical                                    White Christmas   \n",
            "172       Mystery                                    Black Christmas   \n",
            "3776         News   Disney Parks Unforgettable Christmas Celebration   \n",
            "4486   Reality-TV            D'Astrain No Cinema - Christmas Special   \n",
            "1024      Romance                                        The Holiday   \n",
            "839        Sci-Fi                                  Christmas on Mars   \n",
            "3903        Short                         Four Christmases: Gag Reel   \n",
            "3797        Sport                              Falling for Christmas   \n",
            "3773    Talk-Show  A Christmas Eve Conversation with Quentin Tara...   \n",
            "173      Thriller                                    Black Christmas   \n",
            "231           War                       Merry Christmas Mr. Lawrence   \n",
            "3452      Western                                El Camino Christmas   \n",
            "\n",
            "      num_votes  \n",
            "3217      29676  \n",
            "1391     125562  \n",
            "316      367288  \n",
            "3883      17908  \n",
            "1023     308807  \n",
            "3218      29676  \n",
            "1798       1138  \n",
            "4290      86058  \n",
            "317      367288  \n",
            "318      367288  \n",
            "60         1583  \n",
            "263       13712  \n",
            "171       46105  \n",
            "54        16722  \n",
            "112       47688  \n",
            "172       46105  \n",
            "3776         18  \n",
            "4486         81  \n",
            "1024     308807  \n",
            "839         814  \n",
            "3903        744  \n",
            "3797       1644  \n",
            "3773         36  \n",
            "173       46105  \n",
            "231       19475  \n",
            "3452      10269  \n"
          ]
        }
      ]
    }
  ]
}